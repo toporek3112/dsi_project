{
 "cells": [
  {
   "cell_type": "code",
   "execution_count": 1,
   "id": "bf324442-cc5a-4536-9d34-a784297a44d0",
   "metadata": {},
   "outputs": [],
   "source": [
    "#TODO: add shell commands"
   ]
  },
  {
   "cell_type": "code",
   "execution_count": 12,
   "id": "b0db72f3-19fd-4df3-935c-7c3d8f5343f1",
   "metadata": {},
   "outputs": [],
   "source": [
    "#imports\n",
    "from kafka import KafkaConsumer\n",
    "from kafka import TopicPartition\n",
    "import psycopg2\n",
    "import pandas as pd\n",
    "import json"
   ]
  },
  {
   "cell_type": "code",
   "execution_count": 3,
   "id": "6091f5c2-d8cc-44b8-b37d-84a5e14d7489",
   "metadata": {},
   "outputs": [],
   "source": [
    "#set parameters\n",
    "kafka_server = 'localhost:9092'"
   ]
  },
  {
   "cell_type": "code",
   "execution_count": 4,
   "id": "6b4671c6-3ae7-48bd-8ecd-14c75e74d316",
   "metadata": {},
   "outputs": [],
   "source": [
    "#init consumer\n",
    "consumer = KafkaConsumer(\n",
    "    bootstrap_servers=kafka_server,\n",
    "    auto_offset_reset='earliest',\n",
    "    value_deserializer=lambda v: json.loads(v.decode('utf-8').replace(\"'\", '\"'))\n",
    ")"
   ]
  },
  {
   "cell_type": "code",
   "execution_count": 13,
   "id": "4135a519-b6de-4ff7-95a6-14d842bdc932",
   "metadata": {},
   "outputs": [
    {
     "name": "stdout",
     "output_type": "stream",
     "text": [
      "Connection established to:  ('PostgreSQL 16.0 (Debian 16.0-1.pgdg120+1) on x86_64-pc-linux-gnu, compiled by gcc (Debian 12.2.0-14) 12.2.0, 64-bit',)\n"
     ]
    }
   ],
   "source": [
    "#init database\n",
    "conn = psycopg2.connect(\n",
    "    host=\"localhost\",\n",
    "    database=\"postgres\",\n",
    "    user=\"postgres\",\n",
    "    password=\"postgres\")\n",
    "cursor = conn.cursor()\n",
    "cursor.execute(\"select version()\")\n",
    "data = cursor.fetchone()\n",
    "print(\"Connection established to: \",data)"
   ]
  },
  {
   "cell_type": "code",
   "execution_count": 5,
   "id": "402ce502-fb0c-451b-93e9-b507d671a5a8",
   "metadata": {},
   "outputs": [],
   "source": [
    "#find current lenght of 'delays' topic\n",
    "partition_delays = TopicPartition('delays',0)\n",
    "consumer.assign([partition_delays])\n",
    "\n",
    "consumer.seek_to_end(partition_delays)\n",
    "lastOffset = consumer.position(partition_delays)\n",
    "\n",
    "consumer.seek_to_beginning(partition_delays)"
   ]
  },
  {
   "cell_type": "code",
   "execution_count": 6,
   "id": "a384f3ed-6438-411c-b813-3a9f777271b1",
   "metadata": {},
   "outputs": [],
   "source": [
    "#consume delays\n",
    "delay_df = pd.DataFrame()\n",
    "\n",
    "for msg in consumer:\n",
    "    row=msg.value\n",
    "    #currently creating a df, TODO: write to db here\n",
    "    delay_df = pd.concat([delay_df, pd.DataFrame([row])], ignore_index=True)\n",
    "    if msg.offset == lastOffset - 1:\n",
    "            break"
   ]
  },
  {
   "cell_type": "code",
   "execution_count": 7,
   "id": "4891c296-62e4-499a-982f-3cf7fb8cbb88",
   "metadata": {},
   "outputs": [],
   "source": [
    "#find current lenght of 'weather' topic\n",
    "partition_weather = TopicPartition('weather',0)\n",
    "consumer.assign([partition_weather])\n",
    "\n",
    "consumer.seek_to_end(partition_weather)\n",
    "lastOffset = consumer.position(partition_weather)\n",
    "\n",
    "consumer.seek_to_beginning(partition_weather)"
   ]
  },
  {
   "cell_type": "code",
   "execution_count": 8,
   "id": "451a1f9c-22a7-456d-ad84-d2477b82b331",
   "metadata": {},
   "outputs": [],
   "source": [
    "#consume weather\n",
    "weather_df = pd.DataFrame()\n",
    "\n",
    "for msg in consumer:\n",
    "    row=msg.value\n",
    "    #currently creating a df, TODO: write to db here\n",
    "    weather_df = pd.concat([weather_df, pd.DataFrame([row])], ignore_index=True)\n",
    "    if msg.offset == lastOffset - 1:\n",
    "            break"
   ]
  },
  {
   "cell_type": "code",
   "execution_count": 9,
   "id": "75314692-f2b8-444c-918b-60216bbda906",
   "metadata": {},
   "outputs": [],
   "source": [
    "consumer.close()"
   ]
  },
  {
   "cell_type": "code",
   "execution_count": 10,
   "id": "375154a4-b736-40e8-b24b-4c3231b7f99e",
   "metadata": {},
   "outputs": [
    {
     "data": {
      "text/html": [
       "<div>\n",
       "<style scoped>\n",
       "    .dataframe tbody tr th:only-of-type {\n",
       "        vertical-align: middle;\n",
       "    }\n",
       "\n",
       "    .dataframe tbody tr th {\n",
       "        vertical-align: top;\n",
       "    }\n",
       "\n",
       "    .dataframe thead th {\n",
       "        text-align: right;\n",
       "    }\n",
       "</style>\n",
       "<table border=\"1\" class=\"dataframe\">\n",
       "  <thead>\n",
       "    <tr style=\"text-align: right;\">\n",
       "      <th></th>\n",
       "      <th>id</th>\n",
       "      <th>title</th>\n",
       "      <th>lines</th>\n",
       "      <th>stations</th>\n",
       "      <th>start</th>\n",
       "      <th>end</th>\n",
       "    </tr>\n",
       "  </thead>\n",
       "  <tbody>\n",
       "    <tr>\n",
       "      <th>0</th>\n",
       "      <td>163706</td>\n",
       "      <td>Verspätungen</td>\n",
       "      <td>[U3]</td>\n",
       "      <td>[Enkplatz, Erdberg, Gasometer, Herrengasse, Hü...</td>\n",
       "      <td>10.01.2024 18:25</td>\n",
       "      <td>10.01.2024 23:59</td>\n",
       "    </tr>\n",
       "    <tr>\n",
       "      <th>1</th>\n",
       "      <td>163705</td>\n",
       "      <td>Polizeieinsatz</td>\n",
       "      <td>[6, 11, 69A]</td>\n",
       "      <td>[ Zinnergasse, Absberggasse, Alfred-Adler-Stra...</td>\n",
       "      <td>10.01.2024 17:33</td>\n",
       "      <td>10.01.2024 23:59</td>\n",
       "    </tr>\n",
       "    <tr>\n",
       "      <th>2</th>\n",
       "      <td>163704</td>\n",
       "      <td>Rettungseinsatz</td>\n",
       "      <td>[2, 10]</td>\n",
       "      <td>[ Hummelgasse, Albertgasse, Am Tabor, Blindeng...</td>\n",
       "      <td>10.01.2024 17:02</td>\n",
       "      <td>10.01.2024 23:59</td>\n",
       "    </tr>\n",
       "    <tr>\n",
       "      <th>3</th>\n",
       "      <td>163703</td>\n",
       "      <td>Rettungseinsatz</td>\n",
       "      <td>[U6]</td>\n",
       "      <td>[Alser Straße, Alterlaa, Am Schöpfwerk, Burgga...</td>\n",
       "      <td>10.01.2024 16:46</td>\n",
       "      <td>10.01.2024 23:59</td>\n",
       "    </tr>\n",
       "    <tr>\n",
       "      <th>4</th>\n",
       "      <td>163702</td>\n",
       "      <td>Falschparker</td>\n",
       "      <td>[13A]</td>\n",
       "      <td>[Argentinierstraße, Belvederegasse, Burggasse/...</td>\n",
       "      <td>10.01.2024 16:43</td>\n",
       "      <td>10.01.2024 23:59</td>\n",
       "    </tr>\n",
       "  </tbody>\n",
       "</table>\n",
       "</div>"
      ],
      "text/plain": [
       "       id            title         lines  \\\n",
       "0  163706     Verspätungen          [U3]   \n",
       "1  163705   Polizeieinsatz  [6, 11, 69A]   \n",
       "2  163704  Rettungseinsatz       [2, 10]   \n",
       "3  163703  Rettungseinsatz          [U6]   \n",
       "4  163702     Falschparker         [13A]   \n",
       "\n",
       "                                            stations             start  \\\n",
       "0  [Enkplatz, Erdberg, Gasometer, Herrengasse, Hü...  10.01.2024 18:25   \n",
       "1  [ Zinnergasse, Absberggasse, Alfred-Adler-Stra...  10.01.2024 17:33   \n",
       "2  [ Hummelgasse, Albertgasse, Am Tabor, Blindeng...  10.01.2024 17:02   \n",
       "3  [Alser Straße, Alterlaa, Am Schöpfwerk, Burgga...  10.01.2024 16:46   \n",
       "4  [Argentinierstraße, Belvederegasse, Burggasse/...  10.01.2024 16:43   \n",
       "\n",
       "                end  \n",
       "0  10.01.2024 23:59  \n",
       "1  10.01.2024 23:59  \n",
       "2  10.01.2024 23:59  \n",
       "3  10.01.2024 23:59  \n",
       "4  10.01.2024 23:59  "
      ]
     },
     "execution_count": 10,
     "metadata": {},
     "output_type": "execute_result"
    }
   ],
   "source": [
    "delay_df.head()"
   ]
  },
  {
   "cell_type": "code",
   "execution_count": 11,
   "id": "19c1c49b-7346-4bd3-87e7-741327941ae9",
   "metadata": {},
   "outputs": [
    {
     "data": {
      "text/html": [
       "<div>\n",
       "<style scoped>\n",
       "    .dataframe tbody tr th:only-of-type {\n",
       "        vertical-align: middle;\n",
       "    }\n",
       "\n",
       "    .dataframe tbody tr th {\n",
       "        vertical-align: top;\n",
       "    }\n",
       "\n",
       "    .dataframe thead th {\n",
       "        text-align: right;\n",
       "    }\n",
       "</style>\n",
       "<table border=\"1\" class=\"dataframe\">\n",
       "  <thead>\n",
       "    <tr style=\"text-align: right;\">\n",
       "      <th></th>\n",
       "      <th>time</th>\n",
       "      <th>temperature_2m</th>\n",
       "      <th>relative_humidity_2m</th>\n",
       "      <th>wind_speed_10m</th>\n",
       "    </tr>\n",
       "  </thead>\n",
       "  <tbody>\n",
       "    <tr>\n",
       "      <th>0</th>\n",
       "      <td>01/12/23 00:00:00.000000</td>\n",
       "      <td>0.0235</td>\n",
       "      <td>94.346542</td>\n",
       "      <td>5.600286</td>\n",
       "    </tr>\n",
       "    <tr>\n",
       "      <th>1</th>\n",
       "      <td>01/12/23 01:00:00.000000</td>\n",
       "      <td>0.5235</td>\n",
       "      <td>90.332314</td>\n",
       "      <td>7.895416</td>\n",
       "    </tr>\n",
       "    <tr>\n",
       "      <th>2</th>\n",
       "      <td>01/12/23 02:00:00.000000</td>\n",
       "      <td>0.5235</td>\n",
       "      <td>90.332314</td>\n",
       "      <td>6.369050</td>\n",
       "    </tr>\n",
       "    <tr>\n",
       "      <th>3</th>\n",
       "      <td>01/12/23 03:00:00.000000</td>\n",
       "      <td>0.5235</td>\n",
       "      <td>90.332314</td>\n",
       "      <td>4.510787</td>\n",
       "    </tr>\n",
       "    <tr>\n",
       "      <th>4</th>\n",
       "      <td>01/12/23 04:00:00.000000</td>\n",
       "      <td>0.4735</td>\n",
       "      <td>91.992157</td>\n",
       "      <td>3.319036</td>\n",
       "    </tr>\n",
       "  </tbody>\n",
       "</table>\n",
       "</div>"
      ],
      "text/plain": [
       "                       time  temperature_2m  relative_humidity_2m  \\\n",
       "0  01/12/23 00:00:00.000000          0.0235             94.346542   \n",
       "1  01/12/23 01:00:00.000000          0.5235             90.332314   \n",
       "2  01/12/23 02:00:00.000000          0.5235             90.332314   \n",
       "3  01/12/23 03:00:00.000000          0.5235             90.332314   \n",
       "4  01/12/23 04:00:00.000000          0.4735             91.992157   \n",
       "\n",
       "   wind_speed_10m  \n",
       "0        5.600286  \n",
       "1        7.895416  \n",
       "2        6.369050  \n",
       "3        4.510787  \n",
       "4        3.319036  "
      ]
     },
     "execution_count": 11,
     "metadata": {},
     "output_type": "execute_result"
    }
   ],
   "source": [
    "weather_df.head()"
   ]
  }
 ],
 "metadata": {
  "kernelspec": {
   "display_name": "Python 3 (ipykernel)",
   "language": "python",
   "name": "python3"
  },
  "language_info": {
   "codemirror_mode": {
    "name": "ipython",
    "version": 3
   },
   "file_extension": ".py",
   "mimetype": "text/x-python",
   "name": "python",
   "nbconvert_exporter": "python",
   "pygments_lexer": "ipython3",
   "version": "3.11.4"
  }
 },
 "nbformat": 4,
 "nbformat_minor": 5
}
