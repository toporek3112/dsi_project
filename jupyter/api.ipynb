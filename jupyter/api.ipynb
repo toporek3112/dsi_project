{
 "cells": [
  {
   "cell_type": "code",
   "execution_count": 1,
   "id": "5956739b-fa3a-4816-9b01-1f18c54b4894",
   "metadata": {
    "editable": true,
    "slideshow": {
     "slide_type": ""
    },
    "tags": []
   },
   "outputs": [],
   "source": [
    "#!pip install pandas\n",
    "#!pip install openmeteo-requests\n",
    "#!pip install requests-cache\n",
    "#!pip install retry-requests\n",
    "#!pip install kafka"
   ]
  },
  {
   "cell_type": "code",
   "execution_count": 2,
   "id": "7aef3fcf-454c-4ec2-bf4b-f2e57b393523",
   "metadata": {},
   "outputs": [],
   "source": [
    "#imports\n",
    "import openmeteo_requests\n",
    "import requests_cache\n",
    "import pandas as pd\n",
    "from retry_requests import retry\n",
    "from kafka import KafkaProducer\n",
    "import json"
   ]
  },
  {
   "cell_type": "code",
   "execution_count": 3,
   "id": "2667b20d-4504-4b71-94b5-64458d660de4",
   "metadata": {},
   "outputs": [],
   "source": [
    "#set parameters\n",
    "source_url = \"https://archive-api.open-meteo.com/v1/archive\"\n",
    "kafka_server = 'localhost:9092'\n",
    "api_params = {\n",
    "\t\"latitude\": 48.210033,\n",
    "\t\"longitude\": 16.363449,\n",
    "\t\"start_date\": \"2020-01-01\",\n",
    "\t\"end_date\": \"2024-01-11\",\n",
    "\t\"hourly\": [\"temperature_2m\", \"relative_humidity_2m\", \"wind_speed_10m\"]\n",
    "}"
   ]
  },
  {
   "cell_type": "code",
   "execution_count": 4,
   "id": "0959e146-df90-4116-9b33-bc4a4c5a9807",
   "metadata": {},
   "outputs": [],
   "source": [
    "#set up api\n",
    "cache_session = requests_cache.CachedSession('.cache', expire_after = -1)\n",
    "retry_session = retry(cache_session, retries = 5, backoff_factor = 0.2)\n",
    "openmeteo = openmeteo_requests.Client(session = retry_session)\n",
    "\n",
    "\n",
    "# The order of variables in hourly or daily is important to assign them correctly b\n",
    "\n",
    "#get api data and parse into variables\n",
    "responses = openmeteo.weather_api(source_url, params=api_params)\n",
    "response = responses[0]\n",
    "\n",
    "hourly = response.Hourly()\n",
    "hourly_temperature_2m = hourly.Variables(0).ValuesAsNumpy()\n",
    "hourly_relative_humidity_2m = hourly.Variables(1).ValuesAsNumpy()\n",
    "hourly_wind_speed_10m = hourly.Variables(2).ValuesAsNumpy()\n",
    "#create dataframe\n",
    "hourly_data = {\"time\": pd.date_range(\n",
    "start = pd.to_datetime(hourly.Time(), unit = \"s\"),\n",
    "end = pd.to_datetime(hourly.TimeEnd(), unit = \"s\"),\n",
    "freq = pd.Timedelta(seconds = hourly.Interval()),\n",
    "inclusive = \"left\"\n",
    ")}\n",
    "hourly_data[\"temperature_2m\"] = hourly_temperature_2m\n",
    "hourly_data[\"relative_humidity_2m\"] = hourly_relative_humidity_2m\n",
    "hourly_data[\"wind_speed_10m\"] = hourly_wind_speed_10m\n",
    "hourly_dataframe = pd.DataFrame(data = hourly_data)"
   ]
  },
  {
   "cell_type": "code",
   "execution_count": 5,
   "id": "2cd87636-39ee-44d7-9c5e-f7d00383ab67",
   "metadata": {},
   "outputs": [],
   "source": [
    "#init producer\n",
    "producer = KafkaProducer(bootstrap_servers=kafka_server,value_serializer=lambda v: json.dumps(v).encode('utf-8'))"
   ]
  },
  {
   "cell_type": "code",
   "execution_count": 6,
   "id": "6b6617ba-becc-4339-bd87-9480ce6bf559",
   "metadata": {},
   "outputs": [],
   "source": [
    "#produce df to kafka row by row\n",
    "for index, row in hourly_dataframe.iterrows():\n",
    "    producer.send('weather', row.to_dict())\n",
    "    producer.flush()"
   ]
  },
  {
   "cell_type": "code",
   "execution_count": 7,
   "id": "966ed6ec-3948-40df-9cb4-3023cbd87719",
   "metadata": {},
   "outputs": [],
   "source": [
    "producer.close()"
   ]
  },
  {
   "cell_type": "code",
   "execution_count": null,
   "id": "3abe5a55-3c5e-4ba0-96c5-3c56f967cf5a",
   "metadata": {},
   "outputs": [],
   "source": []
  }
 ],
 "metadata": {
  "kernelspec": {
   "display_name": "Python 3 (ipykernel)",
   "language": "python",
   "name": "python3"
  },
  "language_info": {
   "codemirror_mode": {
    "name": "ipython",
    "version": 3
   },
   "file_extension": ".py",
   "mimetype": "text/x-python",
   "name": "python",
   "nbconvert_exporter": "python",
   "pygments_lexer": "ipython3",
   "version": "3.11.4"
  }
 },
 "nbformat": 4,
 "nbformat_minor": 5
}
