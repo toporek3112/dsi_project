{
 "cells": [
  {
   "cell_type": "code",
   "execution_count": 1,
   "id": "5956739b-fa3a-4816-9b01-1f18c54b4894",
   "metadata": {
    "editable": true,
    "slideshow": {
     "slide_type": ""
    },
    "tags": []
   },
   "outputs": [],
   "source": [
    "#!pip install pandas\n",
    "#!pip install openmeteo-requests\n",
    "#!pip install requests-cache\n",
    "#!pip install retry-requests\n",
    "#!pip install kafka"
   ]
  },
  {
   "cell_type": "code",
   "execution_count": 2,
   "id": "7aef3fcf-454c-4ec2-bf4b-f2e57b393523",
   "metadata": {},
   "outputs": [],
   "source": [
    "#imports\n",
    "import openmeteo_requests\n",
    "import requests_cache\n",
    "import pandas as pd\n",
    "from retry_requests import retry\n",
    "from kafka import KafkaProducer\n",
    "import json"
   ]
  },
  {
   "cell_type": "code",
   "execution_count": 3,
   "id": "2667b20d-4504-4b71-94b5-64458d660de4",
   "metadata": {},
   "outputs": [],
   "source": [
    "#set parameters\n",
    "source_url = \"https://archive-api.open-meteo.com/v1/archive\"\n",
    "kafka_server = 'localhost:9092'\n",
    "api_params = {\n",
    "\t\"latitude\": 48.210033,\n",
    "\t\"longitude\": 16.363449,\n",
    "\t\"start_date\": \"2020-01-01\",\n",
    "\t\"end_date\": \"2024-01-11\",\n",
    "\t\"hourly\": [\"temperature_2m\", \"relative_humidity_2m\", \"wind_speed_10m\"]\n",
    "}"
   ]
  },
  {
   "cell_type": "code",
   "execution_count": 8,
   "id": "0959e146-df90-4116-9b33-bc4a4c5a9807",
   "metadata": {},
   "outputs": [
    {
     "data": {
      "text/html": [
       "<div>\n",
       "<style scoped>\n",
       "    .dataframe tbody tr th:only-of-type {\n",
       "        vertical-align: middle;\n",
       "    }\n",
       "\n",
       "    .dataframe tbody tr th {\n",
       "        vertical-align: top;\n",
       "    }\n",
       "\n",
       "    .dataframe thead th {\n",
       "        text-align: right;\n",
       "    }\n",
       "</style>\n",
       "<table border=\"1\" class=\"dataframe\">\n",
       "  <thead>\n",
       "    <tr style=\"text-align: right;\">\n",
       "      <th></th>\n",
       "      <th>time</th>\n",
       "      <th>temperature_2m</th>\n",
       "      <th>relative_humidity_2m</th>\n",
       "      <th>wind_speed_10m</th>\n",
       "    </tr>\n",
       "  </thead>\n",
       "  <tbody>\n",
       "    <tr>\n",
       "      <th>0</th>\n",
       "      <td>2020-01-01 00:00:00</td>\n",
       "      <td>1.7735</td>\n",
       "      <td>79.606735</td>\n",
       "      <td>19.191748</td>\n",
       "    </tr>\n",
       "    <tr>\n",
       "      <th>1</th>\n",
       "      <td>2020-01-01 01:00:00</td>\n",
       "      <td>1.9735</td>\n",
       "      <td>78.477814</td>\n",
       "      <td>19.665359</td>\n",
       "    </tr>\n",
       "    <tr>\n",
       "      <th>2</th>\n",
       "      <td>2020-01-01 02:00:00</td>\n",
       "      <td>1.8235</td>\n",
       "      <td>78.454346</td>\n",
       "      <td>19.052811</td>\n",
       "    </tr>\n",
       "    <tr>\n",
       "      <th>3</th>\n",
       "      <td>2020-01-01 03:00:00</td>\n",
       "      <td>1.7735</td>\n",
       "      <td>77.872047</td>\n",
       "      <td>19.191748</td>\n",
       "    </tr>\n",
       "    <tr>\n",
       "      <th>4</th>\n",
       "      <td>2020-01-01 04:00:00</td>\n",
       "      <td>1.3235</td>\n",
       "      <td>78.665314</td>\n",
       "      <td>18.204042</td>\n",
       "    </tr>\n",
       "  </tbody>\n",
       "</table>\n",
       "</div>"
      ],
      "text/plain": [
       "                  time  temperature_2m  relative_humidity_2m  wind_speed_10m\n",
       "0  2020-01-01 00:00:00          1.7735             79.606735       19.191748\n",
       "1  2020-01-01 01:00:00          1.9735             78.477814       19.665359\n",
       "2  2020-01-01 02:00:00          1.8235             78.454346       19.052811\n",
       "3  2020-01-01 03:00:00          1.7735             77.872047       19.191748\n",
       "4  2020-01-01 04:00:00          1.3235             78.665314       18.204042"
      ]
     },
     "execution_count": 8,
     "metadata": {},
     "output_type": "execute_result"
    }
   ],
   "source": [
    "#set up api\n",
    "cache_session = requests_cache.CachedSession('.cache', expire_after = -1)\n",
    "retry_session = retry(cache_session, retries = 5, backoff_factor = 0.2)\n",
    "openmeteo = openmeteo_requests.Client(session = retry_session)\n",
    "\n",
    "\n",
    "# The order of variables in hourly or daily is important to assign them correctly b\n",
    "\n",
    "#get api data and parse into variables\n",
    "responses = openmeteo.weather_api(source_url, params=api_params)\n",
    "response = responses[0]\n",
    "\n",
    "hourly = response.Hourly()\n",
    "hourly_temperature_2m = hourly.Variables(0).ValuesAsNumpy()\n",
    "hourly_relative_humidity_2m = hourly.Variables(1).ValuesAsNumpy()\n",
    "hourly_wind_speed_10m = hourly.Variables(2).ValuesAsNumpy()\n",
    "#create dataframe\n",
    "hourly_data = {\"time\": pd.date_range(\n",
    "start = pd.to_datetime(hourly.Time(), unit = \"s\"),\n",
    "end = pd.to_datetime(hourly.TimeEnd(), unit = \"s\"),\n",
    "freq = pd.Timedelta(seconds = hourly.Interval()),\n",
    "inclusive = \"left\"\n",
    ")}\n",
    "hourly_data[\"temperature_2m\"] = hourly_temperature_2m\n",
    "hourly_data[\"relative_humidity_2m\"] = hourly_relative_humidity_2m\n",
    "hourly_data[\"wind_speed_10m\"] = hourly_wind_speed_10m\n",
    "hourly_data[\"time\"]=hourly_data[\"time\"].strftime('%Y-%m-%d %H:%M:%S')\n",
    "hourly_dataframe = pd.DataFrame(data = hourly_data)\n",
    "hourly_dataframe.head()"
   ]
  },
  {
   "cell_type": "code",
   "execution_count": 9,
   "id": "2cd87636-39ee-44d7-9c5e-f7d00383ab67",
   "metadata": {},
   "outputs": [],
   "source": [
    "#init producer\n",
    "producer = KafkaProducer(bootstrap_servers=kafka_server,value_serializer=lambda v: json.dumps(v).encode('utf-8'))"
   ]
  },
  {
   "cell_type": "code",
   "execution_count": 10,
   "id": "6b6617ba-becc-4339-bd87-9480ce6bf559",
   "metadata": {},
   "outputs": [],
   "source": [
    "#produce df to kafka row by row\n",
    "for index, row in hourly_dataframe.iterrows():\n",
    "    producer.send('weather', row.to_dict())\n",
    "    producer.flush()"
   ]
  },
  {
   "cell_type": "code",
   "execution_count": 7,
   "id": "966ed6ec-3948-40df-9cb4-3023cbd87719",
   "metadata": {},
   "outputs": [],
   "source": [
    "producer.close()"
   ]
  },
  {
   "cell_type": "code",
   "execution_count": null,
   "id": "3abe5a55-3c5e-4ba0-96c5-3c56f967cf5a",
   "metadata": {},
   "outputs": [],
   "source": []
  }
 ],
 "metadata": {
  "kernelspec": {
   "display_name": "Python 3 (ipykernel)",
   "language": "python",
   "name": "python3"
  },
  "language_info": {
   "codemirror_mode": {
    "name": "ipython",
    "version": 3
   },
   "file_extension": ".py",
   "mimetype": "text/x-python",
   "name": "python",
   "nbconvert_exporter": "python",
   "pygments_lexer": "ipython3",
   "version": "3.11.4"
  }
 },
 "nbformat": 4,
 "nbformat_minor": 5
}
