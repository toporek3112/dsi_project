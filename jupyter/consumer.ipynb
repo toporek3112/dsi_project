{
 "cells": [
  {
   "cell_type": "code",
   "execution_count": 1,
   "id": "bf324442-cc5a-4536-9d34-a784297a44d0",
   "metadata": {
    "editable": true,
    "slideshow": {
     "slide_type": ""
    },
    "tags": []
   },
   "outputs": [],
   "source": [
    "#!pip install kafka\n",
    "#!pip install sqlalchemy\n",
    "#!pip install pandas"
   ]
  },
  {
   "cell_type": "code",
   "execution_count": 2,
   "id": "b0db72f3-19fd-4df3-935c-7c3d8f5343f1",
   "metadata": {
    "editable": true,
    "slideshow": {
     "slide_type": ""
    },
    "tags": []
   },
   "outputs": [],
   "source": [
    "#imports\n",
    "from kafka import KafkaConsumer\n",
    "from kafka import TopicPartition\n",
    "from sqlalchemy import create_engine\n",
    "import pandas as pd\n",
    "import json"
   ]
  },
  {
   "cell_type": "code",
   "execution_count": 3,
   "id": "6091f5c2-d8cc-44b8-b37d-84a5e14d7489",
   "metadata": {},
   "outputs": [],
   "source": [
    "#set parameters\n",
    "kafka_server = 'localhost:9092'\n",
    "db_user = 'postgres'\n",
    "db_password = 'postgres'\n",
    "db_host = 'localhost'\n",
    "db_port = '5432'\n",
    "db_name = 'postgres'"
   ]
  },
  {
   "cell_type": "code",
   "execution_count": null,
   "id": "6b4671c6-3ae7-48bd-8ecd-14c75e74d316",
   "metadata": {},
   "outputs": [],
   "source": [
    "#init consumer\n",
    "consumer = KafkaConsumer(\n",
    "    bootstrap_servers=kafka_server,\n",
    "    auto_offset_reset='earliest',\n",
    "    value_deserializer=lambda v: json.loads(v.decode('utf-8').replace(\"'\", '\"'))\n",
    ")"
   ]
  },
  {
   "cell_type": "code",
   "execution_count": null,
   "id": "4135a519-b6de-4ff7-95a6-14d842bdc932",
   "metadata": {},
   "outputs": [],
   "source": [
    "#init database\n",
    "engine = create_engine(f'postgresql://{db_user}:{db_password}@{db_host}:{db_port}/{db_name}')\n",
    "try:\n",
    "    engine.connect()\n",
    "    print(\"success\")\n",
    "except SQLAlchemyError as err:\n",
    "    print(\"error\", err.__cause__)"
   ]
  },
  {
   "cell_type": "code",
   "execution_count": null,
   "id": "402ce502-fb0c-451b-93e9-b507d671a5a8",
   "metadata": {},
   "outputs": [],
   "source": [
    "#find current lenght of 'delays' topic\n",
    "partition_delays = TopicPartition('delays',0)\n",
    "consumer.assign([partition_delays])\n",
    "\n",
    "consumer.seek_to_end(partition_delays)\n",
    "lastOffset = consumer.position(partition_delays)\n",
    "\n",
    "consumer.seek_to_beginning(partition_delays)"
   ]
  },
  {
   "cell_type": "code",
   "execution_count": null,
   "id": "a384f3ed-6438-411c-b813-3a9f777271b1",
   "metadata": {},
   "outputs": [],
   "source": [
    "#consume delays\n",
    "delay_df = pd.DataFrame()\n",
    "\n",
    "for msg in consumer:\n",
    "    row=msg.value\n",
    "    #currently creating a df, TODO: write to db here\n",
    "    delay_df = pd.concat([delay_df, pd.DataFrame([row])], ignore_index=True)\n",
    "    if msg.offset == lastOffset - 1:\n",
    "            break"
   ]
  },
  {
   "cell_type": "code",
   "execution_count": null,
   "id": "4891c296-62e4-499a-982f-3cf7fb8cbb88",
   "metadata": {},
   "outputs": [],
   "source": [
    "#find current lenght of 'weather' topic\n",
    "partition_weather = TopicPartition('weather',0)\n",
    "consumer.assign([partition_weather])\n",
    "\n",
    "consumer.seek_to_end(partition_weather)\n",
    "lastOffset = consumer.position(partition_weather)\n",
    "\n",
    "consumer.seek_to_beginning(partition_weather)"
   ]
  },
  {
   "cell_type": "code",
   "execution_count": null,
   "id": "451a1f9c-22a7-456d-ad84-d2477b82b331",
   "metadata": {},
   "outputs": [],
   "source": [
    "#consume weather\n",
    "weather_df = pd.DataFrame()\n",
    "\n",
    "for msg in consumer:\n",
    "    row=msg.value\n",
    "    weather_df = pd.concat([weather_df, pd.DataFrame([row])], ignore_index=True)\n",
    "    if msg.offset == lastOffset - 1:\n",
    "            break"
   ]
  },
  {
   "cell_type": "code",
   "execution_count": null,
   "id": "75314692-f2b8-444c-918b-60216bbda906",
   "metadata": {},
   "outputs": [],
   "source": [
    "consumer.close()"
   ]
  },
  {
   "cell_type": "code",
   "execution_count": null,
   "id": "7fc2a049-cd63-443f-b4ff-3ae136cf608a",
   "metadata": {},
   "outputs": [],
   "source": [
    "delay_df['start'] = pd.to_datetime(delay_df['start'], format='%d.%m.%Y %H:%M')#\n",
    "delay_df['end'] = pd.to_datetime(delay_df['end'], format='%d.%m.%Y %H:%M')\n",
    "delay_df.head()"
   ]
  },
  {
   "cell_type": "code",
   "execution_count": null,
   "id": "375154a4-b736-40e8-b24b-4c3231b7f99e",
   "metadata": {},
   "outputs": [],
   "source": [
    "delay_df.to_sql('delays', engine, if_exists='append', index=False)"
   ]
  },
  {
   "cell_type": "code",
   "execution_count": null,
   "id": "19c1c49b-7346-4bd3-87e7-741327941ae9",
   "metadata": {},
   "outputs": [],
   "source": [
    "weather_df['time'] = pd.to_datetime(weather_df['time'], format='%Y-%m-%d %H:%M:%S')\n",
    "weather_df.head()"
   ]
  },
  {
   "cell_type": "code",
   "execution_count": null,
   "id": "687fd5bd-4a4a-47ad-8ca8-dc36b3cbf2a9",
   "metadata": {},
   "outputs": [],
   "source": [
    "weather_df.to_sql('weather_data', engine, if_exists='append', index=True,index_label='id')"
   ]
  }
 ],
 "metadata": {
  "kernelspec": {
   "display_name": "Python 3 (ipykernel)",
   "language": "python",
   "name": "python3"
  },
  "language_info": {
   "codemirror_mode": {
    "name": "ipython",
    "version": 3
   },
   "file_extension": ".py",
   "mimetype": "text/x-python",
   "name": "python",
   "nbconvert_exporter": "python",
   "pygments_lexer": "ipython3",
   "version": "3.11.4"
  }
 },
 "nbformat": 4,
 "nbformat_minor": 5
}
