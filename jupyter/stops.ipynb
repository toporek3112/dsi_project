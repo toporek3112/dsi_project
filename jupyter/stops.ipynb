{
 "cells": [
  {
   "cell_type": "code",
   "execution_count": 1,
   "id": "013d4a7f-097b-49b9-afa2-6b56cde37189",
   "metadata": {},
   "outputs": [],
   "source": [
    "from sqlalchemy import create_engine\n",
    "import pandas as pd"
   ]
  },
  {
   "cell_type": "code",
   "execution_count": 2,
   "id": "a0504a6c-725c-4b3f-900d-07136c018042",
   "metadata": {},
   "outputs": [],
   "source": [
    "#set parameters\n",
    "db_user = 'postgres'\n",
    "db_password = 'postgres'\n",
    "db_host = 'localhost'\n",
    "db_port = '5432'\n",
    "db_name = 'dsi_project'\n",
    "file_name = '../wienerlinien-ogd-haltepunkte.csv'"
   ]
  },
  {
   "cell_type": "code",
   "execution_count": 3,
   "id": "beb30f45-adeb-49e7-8399-46296a0a4620",
   "metadata": {},
   "outputs": [
    {
     "name": "stdout",
     "output_type": "stream",
     "text": [
      "success\n"
     ]
    }
   ],
   "source": [
    "#init database\n",
    "engine = create_engine(f'postgresql://{db_user}:{db_password}@{db_host}:{db_port}/{db_name}')\n",
    "try:\n",
    "    engine.connect()\n",
    "    print(\"success\")\n",
    "except SQLAlchemyError as err:\n",
    "    print(\"error\", err.__cause__)"
   ]
  },
  {
   "cell_type": "code",
   "execution_count": 4,
   "id": "65dd01f2-dbfa-4443-a15c-77bd915d46d7",
   "metadata": {},
   "outputs": [
    {
     "data": {
      "text/html": [
       "<div>\n",
       "<style scoped>\n",
       "    .dataframe tbody tr th:only-of-type {\n",
       "        vertical-align: middle;\n",
       "    }\n",
       "\n",
       "    .dataframe tbody tr th {\n",
       "        vertical-align: top;\n",
       "    }\n",
       "\n",
       "    .dataframe thead th {\n",
       "        text-align: right;\n",
       "    }\n",
       "</style>\n",
       "<table border=\"1\" class=\"dataframe\">\n",
       "  <thead>\n",
       "    <tr style=\"text-align: right;\">\n",
       "      <th></th>\n",
       "      <th>id</th>\n",
       "      <th>name</th>\n",
       "      <th>longitude</th>\n",
       "      <th>latitude</th>\n",
       "    </tr>\n",
       "  </thead>\n",
       "  <tbody>\n",
       "    <tr>\n",
       "      <th>0</th>\n",
       "      <td>2</td>\n",
       "      <td>Venediger Au</td>\n",
       "      <td>NaN</td>\n",
       "      <td>NaN</td>\n",
       "    </tr>\n",
       "    <tr>\n",
       "      <th>1</th>\n",
       "      <td>3</td>\n",
       "      <td>Messe Prater</td>\n",
       "      <td>NaN</td>\n",
       "      <td>NaN</td>\n",
       "    </tr>\n",
       "    <tr>\n",
       "      <th>2</th>\n",
       "      <td>4</td>\n",
       "      <td>Perspektivstraße</td>\n",
       "      <td>16.401041</td>\n",
       "      <td>48.217915</td>\n",
       "    </tr>\n",
       "    <tr>\n",
       "      <th>3</th>\n",
       "      <td>5</td>\n",
       "      <td>Börse</td>\n",
       "      <td>16.366002</td>\n",
       "      <td>48.215563</td>\n",
       "    </tr>\n",
       "    <tr>\n",
       "      <th>4</th>\n",
       "      <td>7</td>\n",
       "      <td>Praterstern, Lassallestraße</td>\n",
       "      <td>16.393769</td>\n",
       "      <td>48.219549</td>\n",
       "    </tr>\n",
       "  </tbody>\n",
       "</table>\n",
       "</div>"
      ],
      "text/plain": [
       "   id                         name  longitude   latitude\n",
       "0   2                 Venediger Au        NaN        NaN\n",
       "1   3                 Messe Prater        NaN        NaN\n",
       "2   4             Perspektivstraße  16.401041  48.217915\n",
       "3   5                        Börse  16.366002  48.215563\n",
       "4   7  Praterstern, Lassallestraße  16.393769  48.219549"
      ]
     },
     "execution_count": 4,
     "metadata": {},
     "output_type": "execute_result"
    }
   ],
   "source": [
    "haltestellen = pd.read_csv(file_name, sep=';', usecols=[0,2,5,6], names=['id','name','longitude','latitude'],header=0)\n",
    "haltestellen.head()"
   ]
  },
  {
   "cell_type": "code",
   "execution_count": 6,
   "id": "6db831c1-d460-4f4c-bb17-649378c1995b",
   "metadata": {},
   "outputs": [
    {
     "data": {
      "text/plain": [
       "236"
      ]
     },
     "execution_count": 6,
     "metadata": {},
     "output_type": "execute_result"
    }
   ],
   "source": [
    "haltestellen.to_sql('stops', engine, if_exists='replace', index=False)"
   ]
  },
  {
   "cell_type": "code",
   "execution_count": 7,
   "id": "725e8c18-5197-4413-8ad5-59cef2cebd7d",
   "metadata": {},
   "outputs": [
    {
     "data": {
      "text/html": [
       "<div>\n",
       "<style scoped>\n",
       "    .dataframe tbody tr th:only-of-type {\n",
       "        vertical-align: middle;\n",
       "    }\n",
       "\n",
       "    .dataframe tbody tr th {\n",
       "        vertical-align: top;\n",
       "    }\n",
       "\n",
       "    .dataframe thead th {\n",
       "        text-align: right;\n",
       "    }\n",
       "</style>\n",
       "<table border=\"1\" class=\"dataframe\">\n",
       "  <thead>\n",
       "    <tr style=\"text-align: right;\">\n",
       "      <th></th>\n",
       "      <th>id</th>\n",
       "      <th>name</th>\n",
       "      <th>longitude</th>\n",
       "      <th>latitude</th>\n",
       "    </tr>\n",
       "  </thead>\n",
       "  <tbody>\n",
       "    <tr>\n",
       "      <th>0</th>\n",
       "      <td>2</td>\n",
       "      <td>Venediger Au</td>\n",
       "      <td>NaN</td>\n",
       "      <td>NaN</td>\n",
       "    </tr>\n",
       "    <tr>\n",
       "      <th>1</th>\n",
       "      <td>3</td>\n",
       "      <td>Messe Prater</td>\n",
       "      <td>NaN</td>\n",
       "      <td>NaN</td>\n",
       "    </tr>\n",
       "    <tr>\n",
       "      <th>2</th>\n",
       "      <td>4</td>\n",
       "      <td>Perspektivstraße</td>\n",
       "      <td>16.401041</td>\n",
       "      <td>48.217915</td>\n",
       "    </tr>\n",
       "    <tr>\n",
       "      <th>3</th>\n",
       "      <td>5</td>\n",
       "      <td>Börse</td>\n",
       "      <td>16.366002</td>\n",
       "      <td>48.215563</td>\n",
       "    </tr>\n",
       "    <tr>\n",
       "      <th>4</th>\n",
       "      <td>7</td>\n",
       "      <td>Praterstern, Lassallestraße</td>\n",
       "      <td>16.393769</td>\n",
       "      <td>48.219549</td>\n",
       "    </tr>\n",
       "    <tr>\n",
       "      <th>...</th>\n",
       "      <td>...</td>\n",
       "      <td>...</td>\n",
       "      <td>...</td>\n",
       "      <td>...</td>\n",
       "    </tr>\n",
       "    <tr>\n",
       "      <th>5231</th>\n",
       "      <td>9887</td>\n",
       "      <td>Neulengbach Stadt</td>\n",
       "      <td>NaN</td>\n",
       "      <td>NaN</td>\n",
       "    </tr>\n",
       "    <tr>\n",
       "      <th>5232</th>\n",
       "      <td>9888</td>\n",
       "      <td>Neulengbach</td>\n",
       "      <td>NaN</td>\n",
       "      <td>NaN</td>\n",
       "    </tr>\n",
       "    <tr>\n",
       "      <th>5233</th>\n",
       "      <td>9900</td>\n",
       "      <td>Salmannsdorf Dummy</td>\n",
       "      <td>NaN</td>\n",
       "      <td>NaN</td>\n",
       "    </tr>\n",
       "    <tr>\n",
       "      <th>5234</th>\n",
       "      <td>9989</td>\n",
       "      <td>Bhf. Hetzendorf, Altmann</td>\n",
       "      <td>NaN</td>\n",
       "      <td>NaN</td>\n",
       "    </tr>\n",
       "    <tr>\n",
       "      <th>5235</th>\n",
       "      <td>9999</td>\n",
       "      <td>Test Bahnhof Simmering Schleife</td>\n",
       "      <td>NaN</td>\n",
       "      <td>NaN</td>\n",
       "    </tr>\n",
       "  </tbody>\n",
       "</table>\n",
       "<p>5236 rows × 4 columns</p>\n",
       "</div>"
      ],
      "text/plain": [
       "        id                             name  longitude   latitude\n",
       "0        2                     Venediger Au        NaN        NaN\n",
       "1        3                     Messe Prater        NaN        NaN\n",
       "2        4                 Perspektivstraße  16.401041  48.217915\n",
       "3        5                            Börse  16.366002  48.215563\n",
       "4        7      Praterstern, Lassallestraße  16.393769  48.219549\n",
       "...    ...                              ...        ...        ...\n",
       "5231  9887                Neulengbach Stadt        NaN        NaN\n",
       "5232  9888                      Neulengbach        NaN        NaN\n",
       "5233  9900               Salmannsdorf Dummy        NaN        NaN\n",
       "5234  9989         Bhf. Hetzendorf, Altmann        NaN        NaN\n",
       "5235  9999  Test Bahnhof Simmering Schleife        NaN        NaN\n",
       "\n",
       "[5236 rows x 4 columns]"
      ]
     },
     "execution_count": 7,
     "metadata": {},
     "output_type": "execute_result"
    }
   ],
   "source": [
    "haltestellen"
   ]
  }
 ],
 "metadata": {
  "kernelspec": {
   "display_name": "Python 3 (ipykernel)",
   "language": "python",
   "name": "python3"
  },
  "language_info": {
   "codemirror_mode": {
    "name": "ipython",
    "version": 3
   },
   "file_extension": ".py",
   "mimetype": "text/x-python",
   "name": "python",
   "nbconvert_exporter": "python",
   "pygments_lexer": "ipython3",
   "version": "3.8.18"
  }
 },
 "nbformat": 4,
 "nbformat_minor": 5
}
