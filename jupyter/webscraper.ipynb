{
 "cells": [
  {
   "cell_type": "code",
   "execution_count": null,
   "id": "ba489f04-832c-4513-a164-819080640666",
   "metadata": {
    "editable": true,
    "slideshow": {
     "slide_type": ""
    },
    "tags": []
   },
   "outputs": [],
   "source": [
    "#!pip install requests\n",
    "#!pip install pandas\n",
    "#!pip install kafka\n",
    "#!pip install beautifulsoup4\n",
    "#!pip install requests-cache\n",
    "#!pip install retry-requests\n",
    "#!pip install atpbar\n",
    "#!pip install ipywidgets"
   ]
  },
  {
   "cell_type": "code",
   "execution_count": null,
   "id": "156f5909-bbcc-4840-9fe0-c64c5944b617",
   "metadata": {
    "editable": true,
    "slideshow": {
     "slide_type": ""
    },
    "tags": []
   },
   "outputs": [],
   "source": [
    "#imports\n",
    "import threading\n",
    "import time\n",
    "import requests\n",
    "import re\n",
    "from bs4 import BeautifulSoup\n",
    "from kafka import KafkaProducer\n",
    "import openmeteo_requests\n",
    "import requests_cache\n",
    "import pandas as pd\n",
    "from retry_requests import retry\n",
    "import json\n",
    "from atpbar import atpbar\n",
    "from atpbar import flush"
   ]
  },
  {
   "cell_type": "code",
   "execution_count": null,
   "id": "bc908c40-0039-41f3-8bab-7629edfac268",
   "metadata": {},
   "outputs": [],
   "source": [
    "# set parameters\n",
    "source_url='https://öffi.at/?archive=1&text=&types=2%2C3&page='\n",
    "kafka_server = 'localhost:9092'\n",
    "thread_count=4"
   ]
  },
  {
   "cell_type": "code",
   "execution_count": null,
   "id": "e7f5d133-c4c9-43c4-ae2f-552d759fb096",
   "metadata": {},
   "outputs": [],
   "source": [
    "# get number of total pages\n",
    "response = requests.get(source_url)\n",
    "soup = BeautifulSoup(response.content, 'html.parser')\n",
    "pages=int(soup.find(string=re.compile(r'Aktuelle Seite: \\d+/\\d+')).split('/')[-1].strip()[:-1])\n",
    "print(f'{pages} pages found in total')"
   ]
  },
  {
   "cell_type": "code",
   "execution_count": null,
   "id": "8a3d9d0c-d1f4-490f-87a2-f44e56a05560",
   "metadata": {},
   "outputs": [],
   "source": [
    "# init producer\n",
    "producer = KafkaProducer(bootstrap_servers=kafka_server,value_serializer=lambda v: json.dumps(v).encode('utf-8'))"
   ]
  },
  {
   "cell_type": "code",
   "execution_count": null,
   "id": "2add5b1c-26d6-4c9d-8df6-be1e1df2f6a5",
   "metadata": {},
   "outputs": [],
   "source": [
    "#get data\n",
    "def scrape_oeffi_to_kafka(min,max):\n",
    "    cur_thread=threading.current_thread().name\n",
    "    if min == 0:\n",
    "        min=1\n",
    "    if max > pages+1:\n",
    "        max=pages+1\n",
    "    print(f'thread {cur_thread} working on pages {min} to {max}')\n",
    "    \n",
    "    for n in range(min,max):\n",
    "        # Get page source html\n",
    "        response = requests.get(f'{source_url}3036')\n",
    "    \n",
    "        # Parse html into beautifulSoup\n",
    "        soup = BeautifulSoup(response.content, 'html.parser')\n",
    "        interruption_list_raw = soup.find('ul', {'class': 'category-filter'})\n",
    "    \n",
    "        interruptions = []\n",
    "    \n",
    "        # Build json\n",
    "        for delay in interruption_list_raw.findChildren('li', attrs={'class': 'disruption uk-padding-small'},recursive=False):\n",
    "            lines = []\n",
    "            stations = []\n",
    "        \n",
    "            # Assign variables\n",
    "            id = delay.attrs['id']\n",
    "            title = delay.find('h2',{'class':'disruption-title'}).text.split(':')[-1].strip()\n",
    "            content = delay.find('div',{'class':'uk-accordion-content'})\n",
    "            behoben = content.find('p') != None\n",
    "        \n",
    "            if len(content.find_all('ul')) > 0:\n",
    "              for line in content.find_all('ul')[0].find_all('li'):\n",
    "                  lines.append(line.text)\n",
    "          \n",
    "              if len(content.find_all('ul')) > 1: # some interruptions do not have stations see page 3041 N24\n",
    "                  for station in content.find_all('ul')[1].find_all('li'):\n",
    "                      stations.append(station.text)\n",
    "        \n",
    "            start = content.find_all(string=re.compile(r': \\d{2}\\.\\d{2}\\.\\d{4} \\d{2}:\\d{2}'))[0].split(': ')[1]\n",
    "            end = content.find_all(string=re.compile(r': \\d{2}\\.\\d{2}\\.\\d{4} \\d{2}:\\d{2}'))[1].split(': ')[1]\n",
    "        \n",
    "            #combine into a single dict and send to kafka\n",
    "            interruption = {\n",
    "              'id': id,\n",
    "              'title':title,\n",
    "              'behoben': behoben,\n",
    "              'lines': lines,\n",
    "              'stations': stations,\n",
    "              'start': start,\n",
    "              'end': end\n",
    "            }\n",
    "            producer.send('delays', interruption)\n",
    "            producer.flush()\n",
    "            interruptions.append(interruption)\n",
    "\n",
    "        # wait 5 secs before next request\n",
    "        time.sleep(5)"
   ]
  },
  {
   "cell_type": "code",
   "execution_count": null,
   "id": "1fbb333e-2b78-4b57-806d-13b3627f106a",
   "metadata": {},
   "outputs": [],
   "source": [
    "#init threads\n",
    "threads = []\n",
    "pages_per_thread=int((pages+1)/thread_count)\n",
    "for n in range(1,thread_count+1):\n",
    "    thread = threading.Thread(target=scrape_oeffi_to_kafka, args=(pages_per_thread*(n-1),pages_per_thread*n), name='t'+str(n))\n",
    "    threads.append(thread)\n",
    "    thread.start()"
   ]
  },
  {
   "cell_type": "code",
   "execution_count": null,
   "id": "dc34eda2-df81-470e-9d68-b7d7a1b4a09e",
   "metadata": {},
   "outputs": [],
   "source": [
    "for thread in threads:  \n",
    "    thread.join()\n",
    "flush()\n",
    "producer.close()"
   ]
  },
  {
   "cell_type": "code",
   "execution_count": null,
   "id": "428286a9-d757-441a-91b7-8c1e078dcca1",
   "metadata": {},
   "outputs": [],
   "source": [
    "producer.close()"
   ]
  }
 ],
 "metadata": {
  "kernelspec": {
   "display_name": "Python 3 (ipykernel)",
   "language": "python",
   "name": "python3"
  },
  "language_info": {
   "codemirror_mode": {
    "name": "ipython",
    "version": 3
   },
   "file_extension": ".py",
   "mimetype": "text/x-python",
   "name": "python",
   "nbconvert_exporter": "python",
   "pygments_lexer": "ipython3",
   "version": "3.11.4"
  }
 },
 "nbformat": 4,
 "nbformat_minor": 5
}
