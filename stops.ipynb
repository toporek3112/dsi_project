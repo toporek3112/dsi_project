{
 "cells": [
  {
   "cell_type": "code",
   "execution_count": 1,
   "id": "013d4a7f-097b-49b9-afa2-6b56cde37189",
   "metadata": {},
   "outputs": [],
   "source": [
    "import pandas as pd"
   ]
  },
  {
   "cell_type": "code",
   "execution_count": 11,
   "id": "65dd01f2-dbfa-4443-a15c-77bd915d46d7",
   "metadata": {},
   "outputs": [
    {
     "data": {
      "text/html": [
       "<div>\n",
       "<style scoped>\n",
       "    .dataframe tbody tr th:only-of-type {\n",
       "        vertical-align: middle;\n",
       "    }\n",
       "\n",
       "    .dataframe tbody tr th {\n",
       "        vertical-align: top;\n",
       "    }\n",
       "\n",
       "    .dataframe thead th {\n",
       "        text-align: right;\n",
       "    }\n",
       "</style>\n",
       "<table border=\"1\" class=\"dataframe\">\n",
       "  <thead>\n",
       "    <tr style=\"text-align: right;\">\n",
       "      <th></th>\n",
       "      <th>name</th>\n",
       "      <th>lon</th>\n",
       "      <th>lat</th>\n",
       "    </tr>\n",
       "    <tr>\n",
       "      <th>stop_id</th>\n",
       "      <th></th>\n",
       "      <th></th>\n",
       "      <th></th>\n",
       "    </tr>\n",
       "  </thead>\n",
       "  <tbody>\n",
       "    <tr>\n",
       "      <th>2</th>\n",
       "      <td>Venediger Au</td>\n",
       "      <td>NaN</td>\n",
       "      <td>NaN</td>\n",
       "    </tr>\n",
       "    <tr>\n",
       "      <th>3</th>\n",
       "      <td>Messe Prater</td>\n",
       "      <td>NaN</td>\n",
       "      <td>NaN</td>\n",
       "    </tr>\n",
       "    <tr>\n",
       "      <th>4</th>\n",
       "      <td>Perspektivstraße</td>\n",
       "      <td>16.401041</td>\n",
       "      <td>48.217915</td>\n",
       "    </tr>\n",
       "    <tr>\n",
       "      <th>5</th>\n",
       "      <td>Börse</td>\n",
       "      <td>16.366002</td>\n",
       "      <td>48.215563</td>\n",
       "    </tr>\n",
       "    <tr>\n",
       "      <th>7</th>\n",
       "      <td>Praterstern, Lassallestraße</td>\n",
       "      <td>16.393769</td>\n",
       "      <td>48.219549</td>\n",
       "    </tr>\n",
       "  </tbody>\n",
       "</table>\n",
       "</div>"
      ],
      "text/plain": [
       "                                name        lon        lat\n",
       "stop_id                                                   \n",
       "2                       Venediger Au        NaN        NaN\n",
       "3                       Messe Prater        NaN        NaN\n",
       "4                   Perspektivstraße  16.401041  48.217915\n",
       "5                              Börse  16.366002  48.215563\n",
       "7        Praterstern, Lassallestraße  16.393769  48.219549"
      ]
     },
     "execution_count": 11,
     "metadata": {},
     "output_type": "execute_result"
    }
   ],
   "source": [
    "haltestellen = pd.read_csv('wienerlinien-ogd-haltepunkte.csv', sep=';', index_col=0, usecols=[0,2,5,6], names=['stop_id','name','lon','lat'],header=0)\n",
    "haltestellen.head()"
   ]
  },
  {
   "cell_type": "code",
   "execution_count": null,
   "id": "6db831c1-d460-4f4c-bb17-649378c1995b",
   "metadata": {},
   "outputs": [],
   "source": []
  }
 ],
 "metadata": {
  "kernelspec": {
   "display_name": "Python 3 (ipykernel)",
   "language": "python",
   "name": "python3"
  },
  "language_info": {
   "codemirror_mode": {
    "name": "ipython",
    "version": 3
   },
   "file_extension": ".py",
   "mimetype": "text/x-python",
   "name": "python",
   "nbconvert_exporter": "python",
   "pygments_lexer": "ipython3",
   "version": "3.11.4"
  }
 },
 "nbformat": 4,
 "nbformat_minor": 5
}
