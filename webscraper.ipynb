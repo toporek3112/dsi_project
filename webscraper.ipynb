{
 "cells": [
  {
   "cell_type": "code",
   "execution_count": 1,
   "id": "ba489f04-832c-4513-a164-819080640666",
   "metadata": {},
   "outputs": [],
   "source": [
    "#TODO: add shell commands"
   ]
  },
  {
   "cell_type": "code",
   "execution_count": 2,
   "id": "156f5909-bbcc-4840-9fe0-c64c5944b617",
   "metadata": {},
   "outputs": [],
   "source": [
    "#imports\n",
    "import requests\n",
    "import re\n",
    "from bs4 import BeautifulSoup\n",
    "from kafka import KafkaProducer\n",
    "import openmeteo_requests\n",
    "import requests_cache\n",
    "import pandas as pd\n",
    "from retry_requests import retry\n",
    "import json"
   ]
  },
  {
   "cell_type": "code",
   "execution_count": 3,
   "id": "bc908c40-0039-41f3-8bab-7629edfac268",
   "metadata": {},
   "outputs": [],
   "source": [
    "#set parameters\n",
    "source_url='https://öffi.at/?archive=1&text=&types=2%2C3&page='\n",
    "kafka_server = 'localhost:9092'"
   ]
  },
  {
   "cell_type": "code",
   "execution_count": 4,
   "id": "e7f5d133-c4c9-43c4-ae2f-552d759fb096",
   "metadata": {},
   "outputs": [
    {
     "name": "stdout",
     "output_type": "stream",
     "text": [
      "3118 pages found in total\n"
     ]
    }
   ],
   "source": [
    "#get number of total pages\n",
    "response = requests.get(source_url)\n",
    "soup = BeautifulSoup(response.content, 'html.parser')\n",
    "pages=int(soup.find(string=re.compile(r'Aktuelle Seite: \\d+/\\d+')).split('/')[-1].strip()[:-1])\n",
    "print(f'{pages} pages found in total')"
   ]
  },
  {
   "cell_type": "code",
   "execution_count": 5,
   "id": "8a3d9d0c-d1f4-490f-87a2-f44e56a05560",
   "metadata": {},
   "outputs": [],
   "source": [
    "#init producer\n",
    "producer = KafkaProducer(bootstrap_servers=kafka_server,value_serializer=lambda v: json.dumps(v).encode('utf-8'))"
   ]
  },
  {
   "cell_type": "code",
   "execution_count": 6,
   "id": "2add5b1c-26d6-4c9d-8df6-be1e1df2f6a5",
   "metadata": {},
   "outputs": [],
   "source": [
    "#get data\n",
    "\n",
    "#WARN: öffi.at limits us to a small number of results per request\n",
    "#currently we just send a single request for testing purposes\n",
    "#TODO: implement multithreading before actually running it on the full dataset\n",
    "\n",
    "#for n in range(1,pages+1):\n",
    "response = requests.get(source_url)\n",
    "soup = BeautifulSoup(response.content, 'html.parser')\n",
    "#find the list of all delays on this page, then iterate through it's elements\n",
    "toplist=soup.find('ul',{'class':'category-filter'})\n",
    "for delay in toplist.findChildren('li',attrs={'class': 'disruption uk-padding-small'},recursive=False):\n",
    "    lines=[]\n",
    "    stations=[]\n",
    "    result={}\n",
    "    #assign variables\n",
    "    id=delay.attrs['id']\n",
    "    title=delay.find('h2',{'class':'disruption-title'}).text.split(':')[-1].strip()\n",
    "    content=delay.find('div',{'class':'uk-accordion-content'})\n",
    "    for line in content.find_all('ul')[0].find_all('li'):\n",
    "        lines.append(line.text)\n",
    "    for station in content.find_all('ul')[1].find_all('li'):\n",
    "        stations.append(station.text)\n",
    "    start=content.find_all(string=re.compile(r': \\d{2}\\.\\d{2}\\.\\d{4} \\d{2}:\\d{2}'))[0].split(': ')[1]\n",
    "    end=content.find_all(string=re.compile(r': \\d{2}\\.\\d{2}\\.\\d{4} \\d{2}:\\d{2}'))[1].split(': ')[1]\n",
    "    #combine into a single dict and send to kafka\n",
    "    result={'id':id,'title':title,'lines':lines,'stations':stations,'start':start,'end':end}\n",
    "    producer.send('delays', result)\n",
    "    producer.flush()"
   ]
  },
  {
   "cell_type": "code",
   "execution_count": 7,
   "id": "428286a9-d757-441a-91b7-8c1e078dcca1",
   "metadata": {},
   "outputs": [],
   "source": [
    "producer.close()"
   ]
  },
  {
   "cell_type": "code",
   "execution_count": null,
   "id": "2dbea7e0-c66d-47ce-85d5-8794b526280f",
   "metadata": {},
   "outputs": [],
   "source": []
  },
  {
   "cell_type": "code",
   "execution_count": null,
   "id": "fb493522-e492-4f8f-933c-02ef4cf4345d",
   "metadata": {},
   "outputs": [],
   "source": []
  }
 ],
 "metadata": {
  "kernelspec": {
   "display_name": "Python 3 (ipykernel)",
   "language": "python",
   "name": "python3"
  },
  "language_info": {
   "codemirror_mode": {
    "name": "ipython",
    "version": 3
   },
   "file_extension": ".py",
   "mimetype": "text/x-python",
   "name": "python",
   "nbconvert_exporter": "python",
   "pygments_lexer": "ipython3",
   "version": "3.11.4"
  }
 },
 "nbformat": 4,
 "nbformat_minor": 5
}
